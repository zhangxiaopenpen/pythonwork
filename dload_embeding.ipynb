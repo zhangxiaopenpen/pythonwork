{
 "cells": [
  {
   "cell_type": "code",
   "execution_count": 1,
   "id": "c06fdf32-8727-441d-a80e-8c4c1821bfaf",
   "metadata": {},
   "outputs": [
    {
     "name": "stderr",
     "output_type": "stream",
     "text": [
      "The MIME type of 'article/outdata.txt' is 'application/x-dosexec'. This file type is not currently supported in unstructured.\n"
     ]
    },
    {
     "name": "stdout",
     "output_type": "stream",
     "text": [
      "page_content='苗族古歌对研究苗族古代的历史、政治、经济、宗教、哲学、文学、艺术、祭祀、医学、农学、天文、民俗、军事以及民族迁徙等，具有重要的价值。作为苗族最重要的文化遗产，苗族古歌在加强民族凝聚力、构建和谐社会方面有着现实意义。\\n\\n非遗名称：苗族古歌（簪汪传），所属类型：民间文学，所属省份：贵州省贵阳市清镇市，简介：nan\\n\\n非遗名称：布洛陀，所属类型：民间文学，所属省份：广西壮族自治区田阳县，简介：申报地区或单位：广西壮族自治区田阳县' metadata={'source': 'article/outdata.txt'}\n"
     ]
    }
   ],
   "source": [
    "from langchain.document_loaders import DirectoryLoader\n",
    "from langchain.document_loaders import UnstructuredFileLoader\n",
    "from langchain.text_splitter import RecursiveCharacterTextSplitter\n",
    "directory=\"article\"\n",
    "loader = DirectoryLoader(directory)\n",
    "data = loader.load()\n",
    "# 初始化加载器\n",
    "text_splitter = RecursiveCharacterTextSplitter(chunk_size=256, chunk_overlap=128)\n",
    "# 切割加载的 document\n",
    "split_docs = text_splitter.split_documents(data)\n",
    "print(split_docs[10]) # 先拿出一个小片段看看成没成功"
   ]
  },
  {
   "cell_type": "code",
   "execution_count": 2,
   "id": "d75612c7-494a-43b5-9bd9-4c2af5d35991",
   "metadata": {
    "collapsed": true,
    "editable": true,
    "jupyter": {
     "outputs_hidden": true
    },
    "scrolled": true,
    "slideshow": {
     "slide_type": ""
    },
    "tags": []
   },
   "outputs": [
    {
     "name": "stderr",
     "output_type": "stream",
     "text": [
      "/root/miniconda3/lib/python3.10/site-packages/transformers/utils/generic.py:311: UserWarning: torch.utils._pytree._register_pytree_node is deprecated. Please use torch.utils._pytree.register_pytree_node instead.\n",
      "  torch.utils._pytree._register_pytree_node(\n",
      "/root/miniconda3/lib/python3.10/site-packages/transformers/utils/generic.py:311: UserWarning: torch.utils._pytree._register_pytree_node is deprecated. Please use torch.utils._pytree.register_pytree_node instead.\n",
      "  torch.utils._pytree._register_pytree_node(\n"
     ]
    }
   ],
   "source": [
    "from langchain.vectorstores import Chroma\n",
    "from langchain.embeddings.huggingface import HuggingFaceEmbeddings\n",
    "import IPython\n",
    "import sentence_transformers\n",
    "\n",
    "EMBEDDING_MODEL = \"embedding_module/dataroot/models/shibing624/text2vec-base-chinese\"\n",
    "\n",
    "embeddings = HuggingFaceEmbeddings(model_name=EMBEDDING_MODEL)\n",
    "embeddings.client = sentence_transformers.SentenceTransformer(embeddings.model_name, device='cuda')"
   ]
  },
  {
   "cell_type": "code",
   "execution_count": 3,
   "id": "59f60371-4398-4f31-bc50-5696cd9343fc",
   "metadata": {},
   "outputs": [],
   "source": [
    "from langchain.vectorstores import FAISS\n",
    "\n",
    "db = FAISS.from_documents(split_docs, embeddings)\n",
    "db.save_local(\"Faiss_file/\") # 指定Faiss的位置"
   ]
  },
  {
   "cell_type": "code",
   "execution_count": 4,
   "id": "68303798-4b57-4a85-af9a-e5059fb6bd8d",
   "metadata": {},
   "outputs": [],
   "source": [
    "db = FAISS.load_local(\"Faiss_file/\",embeddings=embeddings,allow_dangerous_deserialization=True)"
   ]
  },
  {
   "cell_type": "code",
   "execution_count": 7,
   "id": "94641c2e-6647-433d-8372-31a86c0d6bf8",
   "metadata": {},
   "outputs": [
    {
     "name": "stdout",
     "output_type": "stream",
     "text": [
      "page_content='苗族主要聚居于贵州东南部、广西大苗山、海南岛及贵州、湖南、湖北、四川、云南、广西等省区的交界地带，苗族民歌是苗民在长期生产生活中创造出来的民族民间音乐形式，根据其内容可分为游方歌（情歌）、酒歌、苦歌、反歌、丧歌、劳动歌、时政歌、儿歌、谜语歌等种类，曲调各不相同。各种民歌形式都是既有传统的歌词，也有即兴编唱的内容。其中苗族飞歌曲调高亢，豪迈奔放，采用独唱、对唱、合唱等形式演唱，深受苗民喜爱。' metadata={'source': 'article/outdata.txt'}\n",
      "page_content='非遗名称：苗族古歌，所属类型：民间文学，所属省份：湖南省花垣县，简介：申报地区或单位：湖南省花垣县\\n\\n苗族古歌是苗族古老的口头文学形式，其内容包括开天辟地、战争迁徙、风俗习惯、生产劳动、神话传说、爱情故事、情歌礼辞、丧葬火把、苗医苗药以及天文哲学等。苗族古歌的传播有两种形式：口头演述和抄本流传。' metadata={'source': 'article/outdata.txt'}\n"
     ]
    }
   ],
   "source": [
    "question = \"苗族古歌分布在哪些地方？\"\n",
    "\n",
    "similarDocs = db.similarity_search(question, include_metadata=True, k=2)\n",
    "\n",
    "for x in similarDocs:\n",
    "    print(x)\n",
    "# 由输出可见找出的信息与用户提出的问题匹配度还是挺高的"
   ]
  },
  {
   "cell_type": "code",
   "execution_count": 8,
   "id": "8c68bc94-3490-4351-acb8-a36eeae8af8b",
   "metadata": {},
   "outputs": [],
   "source": [
    "from langchain.llms.base import LLM\n",
    "from typing import Any, List, Optional\n",
    "from langchain.callbacks.manager import CallbackManagerForLLMRun\n",
    "from transformers import AutoTokenizer, AutoModelForCausalLM, GenerationConfig\n",
    "import torch\n",
    "\n",
    "class baichuan2_LLM(LLM):\n",
    "    # 基于本地 Baichuan 自定义 LLM 类\n",
    "    tokenizer : AutoTokenizer = None\n",
    "    model: AutoModelForCausalLM = None\n",
    "\n",
    "    def __init__(self, model_path :str):\n",
    "        # model_path: Baichuan-13B-chat模型路径\n",
    "        # 从本地初始化模型\n",
    "        super().__init__()\n",
    "        print(\"正在从本地加载模型...\")\n",
    "        self.tokenizer = AutoTokenizer.from_pretrained(model_path, use_fast=False, trust_remote_code=True)\n",
    "        self.model = AutoModelForCausalLM.from_pretrained(model_path, device_map=\"auto\", torch_dtype=torch.bfloat16, trust_remote_code=True,offload_folder = \"./Baichuan2/offload\")\n",
    "        self.model.generation_config = GenerationConfig.from_pretrained(model_path)\n",
    "        self.model = self.model.eval()\n",
    "        print(\"完成本地模型的加载\")\n",
    "\n",
    "    def _call(self, prompt : str, stop: Optional[List[str]] = None,\n",
    "                run_manager: Optional[CallbackManagerForLLMRun] = None,\n",
    "                **kwargs: Any):\n",
    "         # 重写调用函数\n",
    "        messages = [\n",
    "            {\"role\": \"user\", \"content\": prompt}\n",
    "        ]\n",
    "         # 重写调用函数\n",
    "        response= self.model.chat(self.tokenizer, messages)\n",
    "        return response\n",
    "        \n",
    "    @property\n",
    "    def _llm_type(self) -> str:\n",
    "        return \"baichuan2_LLM\""
   ]
  },
  {
   "cell_type": "code",
   "execution_count": 9,
   "id": "cd562fbc-6cd8-4041-a06d-2a1a50b9897c",
   "metadata": {},
   "outputs": [
    {
     "name": "stdout",
     "output_type": "stream",
     "text": [
      "正在从本地加载模型...\n",
      "完成本地模型的加载\n"
     ]
    }
   ],
   "source": [
    "llm = baichuan2_LLM(\"./model/Baichuan2-7B-Chat/models\")"
   ]
  },
  {
   "cell_type": "code",
   "execution_count": 10,
   "id": "1bee91a9-4ce4-41ec-8b21-1f368edf7337",
   "metadata": {},
   "outputs": [],
   "source": [
    "# 直接调用LangChain的RetrievalQA，实现基于上下文的问答，省去写prompt的步骤\n",
    "from langchain.chains import RetrievalQA\n",
    "import IPython\n",
    "\n",
    "retriever = db.as_retriever()\n",
    "qa = RetrievalQA.from_chain_type(llm=llm, chain_type=\"stuff\", retriever=retriever)\n"
   ]
  },
  {
   "cell_type": "code",
   "execution_count": 11,
   "id": "cf0a4801-2ffe-4de5-a5f9-f7a7b4fd189b",
   "metadata": {
    "scrolled": true
   },
   "outputs": [
    {
     "name": "stderr",
     "output_type": "stream",
     "text": [
      "/root/miniconda3/lib/python3.10/site-packages/langchain_core/_api/deprecation.py:119: LangChainDeprecationWarning: The method `Chain.run` was deprecated in langchain 0.1.0 and will be removed in 0.3.0. Use invoke instead.\n",
      "  warn_deprecated(\n",
      "Using sep_token, but it is not set yet.\n",
      "Using cls_token, but it is not set yet.\n",
      "Using mask_token, but it is not set yet.\n",
      "Using sep_token, but it is not set yet.\n",
      "Using cls_token, but it is not set yet.\n",
      "Using mask_token, but it is not set yet.\n",
      "Using sep_token, but it is not set yet.\n",
      "Using cls_token, but it is not set yet.\n",
      "Using mask_token, but it is not set yet.\n",
      "Using sep_token, but it is not set yet.\n",
      "Using cls_token, but it is not set yet.\n",
      "Using mask_token, but it is not set yet.\n",
      "/root/miniconda3/lib/python3.10/site-packages/torch/backends/cuda/__init__.py:342: FutureWarning: torch.backends.cuda.sdp_kernel() is deprecated. In the future, this context manager will be removed. Please see, torch.nn.attention.sdpa_kernel() for the new context manager, with updated signature.\n",
      "  warnings.warn(\n"
     ]
    },
    {
     "name": "stdout",
     "output_type": "stream",
     "text": [
      "苗族古歌分布的省份有湖南省花垣县、吉首市、凤凰县、保靖县、古丈县、泸溪县以及与之接壤的贵州、重庆和湖北等地。\n"
     ]
    }
   ],
   "source": [
    "query = \"苗族古歌分布在哪些省份？\"\n",
    "print(qa.run(query))"
   ]
  },
  {
   "cell_type": "code",
   "execution_count": 12,
   "id": "d7d70d2e-8913-45d7-8705-20c338e8cb5d",
   "metadata": {
    "scrolled": true
   },
   "outputs": [
    {
     "name": "stderr",
     "output_type": "stream",
     "text": [
      "Using sep_token, but it is not set yet.\n",
      "Using cls_token, but it is not set yet.\n",
      "Using mask_token, but it is not set yet.\n",
      "Using sep_token, but it is not set yet.\n",
      "Using cls_token, but it is not set yet.\n",
      "Using mask_token, but it is not set yet.\n",
      "Using sep_token, but it is not set yet.\n",
      "Using cls_token, but it is not set yet.\n",
      "Using mask_token, but it is not set yet.\n",
      "Using sep_token, but it is not set yet.\n",
      "Using cls_token, but it is not set yet.\n",
      "Using mask_token, but it is not set yet.\n",
      "/root/miniconda3/lib/python3.10/site-packages/torch/backends/cuda/__init__.py:342: FutureWarning: torch.backends.cuda.sdp_kernel() is deprecated. In the future, this context manager will be removed. Please see, torch.nn.attention.sdpa_kernel() for the new context manager, with updated signature.\n",
      "  warnings.warn(\n"
     ]
    },
    {
     "name": "stdout",
     "output_type": "stream",
     "text": [
      "苗族古歌是苗族古老的口头文学形式，其内容包括开天辟地、战争迁徙、风俗习惯、生产劳动、神话传说、爱情故事、情歌礼辞、丧葬火把、苗医苗药以及天文哲学等。苗族古歌的传播有两种形式：口头演述和抄本流传。\n"
     ]
    }
   ],
   "source": [
    "retriever = db .as_retriever()\n",
    "qa = RetrievalQA.from_chain_type(\n",
    "    llm=llm,\n",
    "    chain_type='stuff',\n",
    "    retriever=retriever\n",
    ")\n",
    "response = qa.run('苗族古歌是什么？')\n",
    "print(response)"
   ]
  }
 ],
 "metadata": {
  "kernelspec": {
   "display_name": "Python 3 (ipykernel)",
   "language": "python",
   "name": "python3"
  },
  "language_info": {
   "codemirror_mode": {
    "name": "ipython",
    "version": 3
   },
   "file_extension": ".py",
   "mimetype": "text/x-python",
   "name": "python",
   "nbconvert_exporter": "python",
   "pygments_lexer": "ipython3",
   "version": "3.10.8"
  }
 },
 "nbformat": 4,
 "nbformat_minor": 5
}
